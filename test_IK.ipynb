{
 "cells": [
  {
   "cell_type": "code",
   "execution_count": 1,
   "metadata": {},
   "outputs": [],
   "source": [
    "import time\n",
    "\n",
    "import pinocchio\n",
    "import numpy as np\n",
    "np.set_printoptions(precision=3, suppress=True)"
   ]
  },
  {
   "cell_type": "code",
   "execution_count": 13,
   "metadata": {},
   "outputs": [
    {
     "name": "stdout",
     "output_type": "stream",
     "text": [
      "[ 2.32247581  1.76275288 -1.03213629 -2.54752572 -0.86755672  1.92788229\n",
      "  0.45118279]\n"
     ]
    },
    {
     "name": "stderr",
     "output_type": "stream",
     "text": [
      "\u001b[33m[ WARN] [1714268187.467200653]: The root link base_link has an inertia specified in the URDF, but KDL does not support a root link with an inertia.  As a workaround, you can add an extra dummy link to your URDF.\u001b[0m\n"
     ]
    },
    {
     "data": {
      "text/plain": [
       "array([[ 0.91402293, -0.08454572,  0.39675447,  0.29999701],\n",
       "       [ 0.2053586 ,  0.93989514, -0.27280942,  0.19999951],\n",
       "       [-0.34984273,  0.330831  ,  0.87644789,  0.10000631],\n",
       "       [ 0.        ,  0.        ,  0.        ,  1.        ]])"
      ]
     },
     "execution_count": 13,
     "metadata": {},
     "output_type": "execute_result"
    }
   ],
   "source": [
    "import numpy as np\n",
    "from tracikpy import TracIKSolver\n",
    "import pinocchio\n",
    "\n",
    "ee_pose = np.array([[1, 0, 1, 0.3],\n",
    "                    [0, 1, 0, 0.2],\n",
    "                    [0, 0, 1, 0.1],\n",
    "                    [ 0.,  0.,  0., 1.]])\n",
    "\n",
    "urdf_file = \"panda_description/urdf/panda.urdf\"\n",
    "ee_frame = 'panda_link7'\n",
    "\n",
    "ik_solver = TracIKSolver(\n",
    "    urdf_file,\n",
    "    \"base_link\",\n",
    "    ee_frame,\n",
    ")\n",
    "qout = ik_solver.ik(ee_pose, qinit=np.zeros(ik_solver.number_of_joints))\n",
    "print(qout)\n",
    "ik_solver.fk(qout)"
   ]
  },
  {
   "cell_type": "code",
   "execution_count": 9,
   "metadata": {},
   "outputs": [
    {
     "name": "stdout",
     "output_type": "stream",
     "text": [
      "-----\n",
      "Position constraint of joint  7\n",
      "Reached:  [ 0.498 -0.001  0.401]\n",
      "Target: [0.5 0.  0.4]\n",
      "-----\n",
      "Orientation constraint of joint  7\n",
      "Reached:\n",
      " [[-0.001  1.    -0.001]\n",
      " [ 1.     0.001  0.   ]\n",
      " [ 0.    -0.001 -1.   ]]\n",
      "Target:\n",
      " [[ 0.  1.  0.]\n",
      " [ 1.  0.  0.]\n",
      " [ 0.  0. -1.]]\n",
      "Solver successful: True in 24.12ms with 157 iterations\n",
      "[-1.352  0.14  -0.723 -0.79   0.073  2.5    0.183  0.002  0.018]\n"
     ]
    }
   ],
   "source": [
    "from src import damped_IK\n",
    "\n",
    "urdf_file = \"panda_description/urdf/panda.urdf\"\n",
    "# urdf_file = '../mona_torso_description/urdf/mona_torso.urdf'\n",
    "\n",
    "constraints = [{'frame': \"panda_joint7\", 'type': 'position', 'weigth':1},\n",
    "               {'frame': \"panda_joint7\", 'type': 'orientation', 'weigth':1},\n",
    "            #    {'frame': \"Revolute 28\", 'type': 'position', 'weigth':1},\n",
    "            #    {'frame': \"Revolute 28\", 'type': 'orientation', 'weigth':1},\n",
    "               ]\n",
    "\n",
    "IK_solver = damped_IK(urdf_file, constraints, verbose=True, dt=0.1, max_iteration=1000, damp=1e-12)\n",
    "\n",
    "q0 = pinocchio.randomConfiguration(IK_solver.model)\n",
    "# q0=np.zeros(9)\n",
    "\n",
    "targets = [\n",
    "            np.array([0.5, 0, 0.4]),\n",
    "            np.array([[0,1,0], [1,0,0], [0,0,-1]]),\n",
    "            # np.array([-0.4, 0.2, 0.1]),\n",
    "            # np.array([[0,1,0], [1,0,0], [0,0,-1]]),\n",
    "            ]\n",
    "\n",
    "t0 = time.time()\n",
    "q_path, success = IK_solver.run(q0, targets, return_path=True)\n",
    "print(f\"Solver successful: {success} in {1000*(time.time()-t0):.2f}ms with {len(q_path)} iterations\")\n",
    "\n",
    "print(q_path[0])"
   ]
  },
  {
   "cell_type": "code",
   "execution_count": 8,
   "metadata": {},
   "outputs": [
    {
     "name": "stdout",
     "output_type": "stream",
     "text": [
      "-----\n",
      "Position constraint of joint  panda_link8\n",
      "Reached:  [-0.51   0.039  0.686]\n",
      "Target: [0.5 0.  0.4]\n",
      "-----\n",
      "Orientation constraint of joint  panda_link8\n",
      "Reached:\n",
      " [[ 0.601 -0.729 -0.327]\n",
      " [ 0.713  0.304  0.632]\n",
      " [-0.361 -0.613  0.703]]\n",
      "Target:\n",
      " [[ 0  1  0]\n",
      " [ 1  0  0]\n",
      " [ 0  0 -1]]\n",
      "Solver successful: True in 158.58ms with 21 iterations\n",
      "[ -578.865  -113.567 -1092.108   924.831  -715.915  1465.831   544.084\n",
      "    91.479  -202.514]\n"
     ]
    }
   ],
   "source": [
    "from src import croco_IK\n",
    "\n",
    "urdf_file = \"panda_description/urdf/panda.urdf\"\n",
    "# urdf_file = '../mona_torso_description/urdf/mona_torso.urdf'\n",
    "\n",
    "constraints = [{'frame': \"panda_link8\", 'type': 'position', 'weigth':100},\n",
    "               {'frame': \"panda_link8\", 'type': 'orientation', 'weigth':100},\n",
    "            #    {'frame': \"Revolute 28\", 'type': 'position', 'weigth':1},\n",
    "            #    {'frame': \"Revolute 28\", 'type': 'orientation', 'weigth':1},\n",
    "               ]\n",
    "\n",
    "IK_solver = croco_IK(urdf_file, constraints, verbose=True, dt=1e-3, max_iteration=20, damp=1e-12)\n",
    "\n",
    "q0 = pinocchio.randomConfiguration(IK_solver.model)\n",
    "# q0=np.zeros(9)\n",
    "\n",
    "targets = [\n",
    "            np.array([0.5, 0, 0.4]),\n",
    "            np.array([[0,1,0], [1,0,0], [0,0,-1]]),\n",
    "            # np.array([-0.4, 0.2, 0.1]),\n",
    "            # np.array([[0,1,0], [1,0,0], [0,0,-1]]),\n",
    "            ]\n",
    "\n",
    "t0 = time.time()\n",
    "q_path, success = IK_solver.run(q0, targets, return_path=True)\n",
    "print(f\"Solver successful: {success} in {1000*(time.time()-t0):.2f}ms with {len(q_path)} iterations\")\n",
    "\n",
    "print(q_path[-1])"
   ]
  },
  {
   "cell_type": "code",
   "execution_count": 93,
   "metadata": {},
   "outputs": [],
   "source": [
    "q_0 = (IK_solver.model.upperPositionLimit-IK_solver.model.lowerPositionLimit)/2\n",
    "# q_path = np.zeros(12)\n",
    "\n",
    "q_path = np.vstack((np.linspace(q0, IK_solver.model.lowerPositionLimit, 50), \n",
    "                    np.linspace(IK_solver.model.lowerPositionLimit, IK_solver.model.lowerPositionLimit, 500), \n",
    "                    np.linspace(IK_solver.model.lowerPositionLimit, IK_solver.model.upperPositionLimit, 100),\n",
    "                    np.linspace(IK_solver.model.upperPositionLimit, IK_solver.model.upperPositionLimit, 500),\n",
    "                    np.linspace(IK_solver.model.upperPositionLimit, q0, 50)))"
   ]
  },
  {
   "cell_type": "code",
   "execution_count": 5,
   "metadata": {},
   "outputs": [
    {
     "data": {
      "application/vnd.plotly.v1+json": {
       "config": {
        "plotlyServerURL": "https://plot.ly"
       },
       "data": [
        {
         "type": "scatter",
         "xaxis": "x",
         "y": [
          2.8910680120234233,
          2.9321265862166768,
          3.0006861047545836,
          3.097399655081486,
          3.1990906353163933,
          3.243504787269628,
          3.188423260960297,
          3.0807888380871695,
          2.9042325280155166,
          2.5633549664733444,
          2.991540407715594,
          2.529129643465345,
          3.0063084216881966,
          3.1106464482047844,
          3.5022012951829975,
          4.099912085126227,
          5.158433414613109,
          6.503504154417731,
          8.36801190338064,
          93.36425526293891,
          -1722.4958898670511
         ],
         "yaxis": "y"
        },
        {
         "type": "scatter",
         "xaxis": "x2",
         "y": [
          -0.9933134546358666,
          -0.9572779864271453,
          -0.9049549542354973,
          -0.8349980640351637,
          -0.7366476470003778,
          -0.63144222141717,
          -0.5710970941845726,
          -0.5141165533393325,
          -0.5364470633944038,
          -0.4781744920315185,
          -0.7524530175079374,
          -0.7735059812256444,
          -0.9825887198638916,
          -0.7880843958782242,
          -0.6523526918243865,
          -0.4415763508709776,
          -0.12828571437441516,
          0.03834889241539588,
          -2.571812239577252,
          7.95246172584649,
          -7103.217755726545
         ],
         "yaxis": "y2"
        },
        {
         "type": "scatter",
         "xaxis": "x3",
         "y": [
          0.07493805261572728,
          0.17036612796090544,
          0.3588927884764036,
          0.7013981055138454,
          1.20815861483061,
          1.7771079722161665,
          2.3024352877137764,
          2.981084923848128,
          3.691755050461066,
          4.636956522984499,
          4.864958122033759,
          5.28913061630353,
          5.569827031306595,
          5.4823280447522915,
          5.499520611271342,
          5.27569309794975,
          4.414510115524378,
          3.767664927594364,
          5.1005207884977635,
          85.26739028256593,
          10556.873118844076
         ],
         "yaxis": "y3"
        },
        {
         "type": "scatter",
         "xaxis": "x4",
         "y": [
          -0.5527850714527931,
          -0.4907907984058097,
          -0.4262290229976174,
          -0.388923198384274,
          -0.37799013993258956,
          -0.38874470814069795,
          -0.37688961856691977,
          -0.4213767062798844,
          -0.4500249344083962,
          -0.8887805865476327,
          -0.6937281609987291,
          -1.6892900983229995,
          -1.6022938389266692,
          -1.709650228127039,
          -1.5551324720251185,
          -1.2613914812329088,
          -0.790090939636524,
          -1.1550764734438954,
          2.9588495845902165,
          -15.94955837846389,
          -2020.3039467506896
         ],
         "yaxis": "y4"
        },
        {
         "type": "scatter",
         "xaxis": "x5",
         "y": [
          0.6527027739588185,
          0.564881350422533,
          0.3688796063508223,
          0.009925626967430823,
          -0.5552390463601897,
          -1.2072394913479285,
          -1.7741905358332632,
          -2.5240982662212414,
          -3.2411652194688356,
          -4.05887820007571,
          -4.91442302252438,
          -4.446172343221887,
          -4.136395463895262,
          -4.36569278885985,
          -4.906646022375178,
          -5.2962203761709254,
          -5.385103117982125,
          -6.653590507477189,
          -10.675284885193282,
          99.30032684514316,
          14439.924018093961
         ],
         "yaxis": "y5"
        },
        {
         "type": "scatter",
         "xaxis": "x6",
         "y": [
          1.0985391987189832,
          0.9265998574977301,
          0.6160040860473512,
          0.30917487467894283,
          0.029403541269137523,
          -0.18934147227372286,
          -0.2678692783906864,
          -0.29054811722938795,
          -0.17953630933492748,
          -0.1716904396699212,
          0.6915246612007511,
          1.257521506073386,
          2.1908772779635144,
          1.016036146429042,
          1.0200057788186456,
          0.7881492520664947,
          0.3870940791638665,
          1.4115637785317054,
          -6.030848179425547,
          -36.23126234128518,
          9227.695031563331
         ],
         "yaxis": "y6"
        },
        {
         "type": "scatter",
         "xaxis": "x7",
         "y": [
          0.7970603704319155,
          2.0655792481498265,
          2.8915685578331867,
          3.2219661692326005,
          3.303988424887956,
          3.2226052926032147,
          3.0667511001880468,
          2.835966494542837,
          2.5628990888938854,
          2.214542807965546,
          1.6065618765846361,
          1.592670492515675,
          2.27852346219373,
          4.167060405821612,
          4.068685510915107,
          3.9733565013557355,
          4.120987533605107,
          3.609184923865433,
          6.643908536349736,
          74.58061105612677,
          8121.30744800306
         ],
         "yaxis": "y7"
        },
        {
         "type": "scatter",
         "xaxis": "x8",
         "y": [
          0.020971487602671368,
          0.044941705441058605,
          0.12146534807960127,
          0.248600636465846,
          0.3365258299014001,
          0.36183595585741796,
          0.3336346716592656,
          0.2782362010026421,
          0.21544086103392152,
          0.14602309475764663,
          0.13817892947454796,
          0.15570235557045367,
          0.13735353617067678,
          0.22133307999080287,
          0.9340891644876919,
          1.2116829319885127,
          1.0761731299092083,
          1.3047226549642157,
          3.399298031024599,
          239.90048496997102,
          32108.768326141846
         ],
         "yaxis": "y8"
        },
        {
         "type": "scatter",
         "xaxis": "x9",
         "y": [
          0.01974331947962908,
          -0.011112021385150415,
          -0.045809780648982196,
          -0.11275610090146312,
          -0.17303205862435173,
          -0.20125030383017828,
          -0.1929546712985325,
          -0.163760026789152,
          -0.12727706976011313,
          -0.08185684185062223,
          -0.09607470681147766,
          -0.13493927428656505,
          -0.12455434500816226,
          -0.2022056915649958,
          -0.8278858127126667,
          -1.0562354631544237,
          -0.9351611862968654,
          -1.1562911794481072,
          -2.9895632775811194,
          -212.53202100811936,
          -22688.414268425386
         ],
         "yaxis": "y9"
        }
       ],
       "layout": {
        "height": 2000,
        "shapes": [
         {
          "line": {
           "dash": "dash"
          },
          "type": "line",
          "x0": 0,
          "x1": 1,
          "xref": "x domain",
          "y0": -2.8973,
          "y1": -2.8973,
          "yref": "y"
         },
         {
          "line": {
           "dash": "dash"
          },
          "type": "line",
          "x0": 0,
          "x1": 1,
          "xref": "x domain",
          "y0": 2.8973,
          "y1": 2.8973,
          "yref": "y"
         },
         {
          "line": {
           "dash": "dash"
          },
          "type": "line",
          "x0": 0,
          "x1": 1,
          "xref": "x2 domain",
          "y0": -1.7628,
          "y1": -1.7628,
          "yref": "y2"
         },
         {
          "line": {
           "dash": "dash"
          },
          "type": "line",
          "x0": 0,
          "x1": 1,
          "xref": "x2 domain",
          "y0": 1.7628,
          "y1": 1.7628,
          "yref": "y2"
         },
         {
          "line": {
           "dash": "dash"
          },
          "type": "line",
          "x0": 0,
          "x1": 1,
          "xref": "x3 domain",
          "y0": -2.8973,
          "y1": -2.8973,
          "yref": "y3"
         },
         {
          "line": {
           "dash": "dash"
          },
          "type": "line",
          "x0": 0,
          "x1": 1,
          "xref": "x3 domain",
          "y0": 2.8973,
          "y1": 2.8973,
          "yref": "y3"
         },
         {
          "line": {
           "dash": "dash"
          },
          "type": "line",
          "x0": 0,
          "x1": 1,
          "xref": "x4 domain",
          "y0": -3.0718,
          "y1": -3.0718,
          "yref": "y4"
         },
         {
          "line": {
           "dash": "dash"
          },
          "type": "line",
          "x0": 0,
          "x1": 1,
          "xref": "x4 domain",
          "y0": -0.0698,
          "y1": -0.0698,
          "yref": "y4"
         },
         {
          "line": {
           "dash": "dash"
          },
          "type": "line",
          "x0": 0,
          "x1": 1,
          "xref": "x5 domain",
          "y0": -2.8973,
          "y1": -2.8973,
          "yref": "y5"
         },
         {
          "line": {
           "dash": "dash"
          },
          "type": "line",
          "x0": 0,
          "x1": 1,
          "xref": "x5 domain",
          "y0": 2.8973,
          "y1": 2.8973,
          "yref": "y5"
         },
         {
          "line": {
           "dash": "dash"
          },
          "type": "line",
          "x0": 0,
          "x1": 1,
          "xref": "x6 domain",
          "y0": -0.0175,
          "y1": -0.0175,
          "yref": "y6"
         },
         {
          "line": {
           "dash": "dash"
          },
          "type": "line",
          "x0": 0,
          "x1": 1,
          "xref": "x6 domain",
          "y0": 3.7525,
          "y1": 3.7525,
          "yref": "y6"
         },
         {
          "line": {
           "dash": "dash"
          },
          "type": "line",
          "x0": 0,
          "x1": 1,
          "xref": "x7 domain",
          "y0": -2.8973,
          "y1": -2.8973,
          "yref": "y7"
         },
         {
          "line": {
           "dash": "dash"
          },
          "type": "line",
          "x0": 0,
          "x1": 1,
          "xref": "x7 domain",
          "y0": 2.8973,
          "y1": 2.8973,
          "yref": "y7"
         },
         {
          "line": {
           "dash": "dash"
          },
          "type": "line",
          "x0": 0,
          "x1": 1,
          "xref": "x8 domain",
          "y0": 0,
          "y1": 0,
          "yref": "y8"
         },
         {
          "line": {
           "dash": "dash"
          },
          "type": "line",
          "x0": 0,
          "x1": 1,
          "xref": "x8 domain",
          "y0": 0.04,
          "y1": 0.04,
          "yref": "y8"
         },
         {
          "line": {
           "dash": "dash"
          },
          "type": "line",
          "x0": 0,
          "x1": 1,
          "xref": "x9 domain",
          "y0": 0,
          "y1": 0,
          "yref": "y9"
         },
         {
          "line": {
           "dash": "dash"
          },
          "type": "line",
          "x0": 0,
          "x1": 1,
          "xref": "x9 domain",
          "y0": 0.04,
          "y1": 0.04,
          "yref": "y9"
         }
        ],
        "showlegend": false,
        "template": {
         "data": {
          "bar": [
           {
            "error_x": {
             "color": "#2a3f5f"
            },
            "error_y": {
             "color": "#2a3f5f"
            },
            "marker": {
             "line": {
              "color": "#E5ECF6",
              "width": 0.5
             },
             "pattern": {
              "fillmode": "overlay",
              "size": 10,
              "solidity": 0.2
             }
            },
            "type": "bar"
           }
          ],
          "barpolar": [
           {
            "marker": {
             "line": {
              "color": "#E5ECF6",
              "width": 0.5
             },
             "pattern": {
              "fillmode": "overlay",
              "size": 10,
              "solidity": 0.2
             }
            },
            "type": "barpolar"
           }
          ],
          "carpet": [
           {
            "aaxis": {
             "endlinecolor": "#2a3f5f",
             "gridcolor": "white",
             "linecolor": "white",
             "minorgridcolor": "white",
             "startlinecolor": "#2a3f5f"
            },
            "baxis": {
             "endlinecolor": "#2a3f5f",
             "gridcolor": "white",
             "linecolor": "white",
             "minorgridcolor": "white",
             "startlinecolor": "#2a3f5f"
            },
            "type": "carpet"
           }
          ],
          "choropleth": [
           {
            "colorbar": {
             "outlinewidth": 0,
             "ticks": ""
            },
            "type": "choropleth"
           }
          ],
          "contour": [
           {
            "colorbar": {
             "outlinewidth": 0,
             "ticks": ""
            },
            "colorscale": [
             [
              0,
              "#0d0887"
             ],
             [
              0.1111111111111111,
              "#46039f"
             ],
             [
              0.2222222222222222,
              "#7201a8"
             ],
             [
              0.3333333333333333,
              "#9c179e"
             ],
             [
              0.4444444444444444,
              "#bd3786"
             ],
             [
              0.5555555555555556,
              "#d8576b"
             ],
             [
              0.6666666666666666,
              "#ed7953"
             ],
             [
              0.7777777777777778,
              "#fb9f3a"
             ],
             [
              0.8888888888888888,
              "#fdca26"
             ],
             [
              1,
              "#f0f921"
             ]
            ],
            "type": "contour"
           }
          ],
          "contourcarpet": [
           {
            "colorbar": {
             "outlinewidth": 0,
             "ticks": ""
            },
            "type": "contourcarpet"
           }
          ],
          "heatmap": [
           {
            "colorbar": {
             "outlinewidth": 0,
             "ticks": ""
            },
            "colorscale": [
             [
              0,
              "#0d0887"
             ],
             [
              0.1111111111111111,
              "#46039f"
             ],
             [
              0.2222222222222222,
              "#7201a8"
             ],
             [
              0.3333333333333333,
              "#9c179e"
             ],
             [
              0.4444444444444444,
              "#bd3786"
             ],
             [
              0.5555555555555556,
              "#d8576b"
             ],
             [
              0.6666666666666666,
              "#ed7953"
             ],
             [
              0.7777777777777778,
              "#fb9f3a"
             ],
             [
              0.8888888888888888,
              "#fdca26"
             ],
             [
              1,
              "#f0f921"
             ]
            ],
            "type": "heatmap"
           }
          ],
          "heatmapgl": [
           {
            "colorbar": {
             "outlinewidth": 0,
             "ticks": ""
            },
            "colorscale": [
             [
              0,
              "#0d0887"
             ],
             [
              0.1111111111111111,
              "#46039f"
             ],
             [
              0.2222222222222222,
              "#7201a8"
             ],
             [
              0.3333333333333333,
              "#9c179e"
             ],
             [
              0.4444444444444444,
              "#bd3786"
             ],
             [
              0.5555555555555556,
              "#d8576b"
             ],
             [
              0.6666666666666666,
              "#ed7953"
             ],
             [
              0.7777777777777778,
              "#fb9f3a"
             ],
             [
              0.8888888888888888,
              "#fdca26"
             ],
             [
              1,
              "#f0f921"
             ]
            ],
            "type": "heatmapgl"
           }
          ],
          "histogram": [
           {
            "marker": {
             "pattern": {
              "fillmode": "overlay",
              "size": 10,
              "solidity": 0.2
             }
            },
            "type": "histogram"
           }
          ],
          "histogram2d": [
           {
            "colorbar": {
             "outlinewidth": 0,
             "ticks": ""
            },
            "colorscale": [
             [
              0,
              "#0d0887"
             ],
             [
              0.1111111111111111,
              "#46039f"
             ],
             [
              0.2222222222222222,
              "#7201a8"
             ],
             [
              0.3333333333333333,
              "#9c179e"
             ],
             [
              0.4444444444444444,
              "#bd3786"
             ],
             [
              0.5555555555555556,
              "#d8576b"
             ],
             [
              0.6666666666666666,
              "#ed7953"
             ],
             [
              0.7777777777777778,
              "#fb9f3a"
             ],
             [
              0.8888888888888888,
              "#fdca26"
             ],
             [
              1,
              "#f0f921"
             ]
            ],
            "type": "histogram2d"
           }
          ],
          "histogram2dcontour": [
           {
            "colorbar": {
             "outlinewidth": 0,
             "ticks": ""
            },
            "colorscale": [
             [
              0,
              "#0d0887"
             ],
             [
              0.1111111111111111,
              "#46039f"
             ],
             [
              0.2222222222222222,
              "#7201a8"
             ],
             [
              0.3333333333333333,
              "#9c179e"
             ],
             [
              0.4444444444444444,
              "#bd3786"
             ],
             [
              0.5555555555555556,
              "#d8576b"
             ],
             [
              0.6666666666666666,
              "#ed7953"
             ],
             [
              0.7777777777777778,
              "#fb9f3a"
             ],
             [
              0.8888888888888888,
              "#fdca26"
             ],
             [
              1,
              "#f0f921"
             ]
            ],
            "type": "histogram2dcontour"
           }
          ],
          "mesh3d": [
           {
            "colorbar": {
             "outlinewidth": 0,
             "ticks": ""
            },
            "type": "mesh3d"
           }
          ],
          "parcoords": [
           {
            "line": {
             "colorbar": {
              "outlinewidth": 0,
              "ticks": ""
             }
            },
            "type": "parcoords"
           }
          ],
          "pie": [
           {
            "automargin": true,
            "type": "pie"
           }
          ],
          "scatter": [
           {
            "fillpattern": {
             "fillmode": "overlay",
             "size": 10,
             "solidity": 0.2
            },
            "type": "scatter"
           }
          ],
          "scatter3d": [
           {
            "line": {
             "colorbar": {
              "outlinewidth": 0,
              "ticks": ""
             }
            },
            "marker": {
             "colorbar": {
              "outlinewidth": 0,
              "ticks": ""
             }
            },
            "type": "scatter3d"
           }
          ],
          "scattercarpet": [
           {
            "marker": {
             "colorbar": {
              "outlinewidth": 0,
              "ticks": ""
             }
            },
            "type": "scattercarpet"
           }
          ],
          "scattergeo": [
           {
            "marker": {
             "colorbar": {
              "outlinewidth": 0,
              "ticks": ""
             }
            },
            "type": "scattergeo"
           }
          ],
          "scattergl": [
           {
            "marker": {
             "colorbar": {
              "outlinewidth": 0,
              "ticks": ""
             }
            },
            "type": "scattergl"
           }
          ],
          "scattermapbox": [
           {
            "marker": {
             "colorbar": {
              "outlinewidth": 0,
              "ticks": ""
             }
            },
            "type": "scattermapbox"
           }
          ],
          "scatterpolar": [
           {
            "marker": {
             "colorbar": {
              "outlinewidth": 0,
              "ticks": ""
             }
            },
            "type": "scatterpolar"
           }
          ],
          "scatterpolargl": [
           {
            "marker": {
             "colorbar": {
              "outlinewidth": 0,
              "ticks": ""
             }
            },
            "type": "scatterpolargl"
           }
          ],
          "scatterternary": [
           {
            "marker": {
             "colorbar": {
              "outlinewidth": 0,
              "ticks": ""
             }
            },
            "type": "scatterternary"
           }
          ],
          "surface": [
           {
            "colorbar": {
             "outlinewidth": 0,
             "ticks": ""
            },
            "colorscale": [
             [
              0,
              "#0d0887"
             ],
             [
              0.1111111111111111,
              "#46039f"
             ],
             [
              0.2222222222222222,
              "#7201a8"
             ],
             [
              0.3333333333333333,
              "#9c179e"
             ],
             [
              0.4444444444444444,
              "#bd3786"
             ],
             [
              0.5555555555555556,
              "#d8576b"
             ],
             [
              0.6666666666666666,
              "#ed7953"
             ],
             [
              0.7777777777777778,
              "#fb9f3a"
             ],
             [
              0.8888888888888888,
              "#fdca26"
             ],
             [
              1,
              "#f0f921"
             ]
            ],
            "type": "surface"
           }
          ],
          "table": [
           {
            "cells": {
             "fill": {
              "color": "#EBF0F8"
             },
             "line": {
              "color": "white"
             }
            },
            "header": {
             "fill": {
              "color": "#C8D4E3"
             },
             "line": {
              "color": "white"
             }
            },
            "type": "table"
           }
          ]
         },
         "layout": {
          "annotationdefaults": {
           "arrowcolor": "#2a3f5f",
           "arrowhead": 0,
           "arrowwidth": 1
          },
          "autotypenumbers": "strict",
          "coloraxis": {
           "colorbar": {
            "outlinewidth": 0,
            "ticks": ""
           }
          },
          "colorscale": {
           "diverging": [
            [
             0,
             "#8e0152"
            ],
            [
             0.1,
             "#c51b7d"
            ],
            [
             0.2,
             "#de77ae"
            ],
            [
             0.3,
             "#f1b6da"
            ],
            [
             0.4,
             "#fde0ef"
            ],
            [
             0.5,
             "#f7f7f7"
            ],
            [
             0.6,
             "#e6f5d0"
            ],
            [
             0.7,
             "#b8e186"
            ],
            [
             0.8,
             "#7fbc41"
            ],
            [
             0.9,
             "#4d9221"
            ],
            [
             1,
             "#276419"
            ]
           ],
           "sequential": [
            [
             0,
             "#0d0887"
            ],
            [
             0.1111111111111111,
             "#46039f"
            ],
            [
             0.2222222222222222,
             "#7201a8"
            ],
            [
             0.3333333333333333,
             "#9c179e"
            ],
            [
             0.4444444444444444,
             "#bd3786"
            ],
            [
             0.5555555555555556,
             "#d8576b"
            ],
            [
             0.6666666666666666,
             "#ed7953"
            ],
            [
             0.7777777777777778,
             "#fb9f3a"
            ],
            [
             0.8888888888888888,
             "#fdca26"
            ],
            [
             1,
             "#f0f921"
            ]
           ],
           "sequentialminus": [
            [
             0,
             "#0d0887"
            ],
            [
             0.1111111111111111,
             "#46039f"
            ],
            [
             0.2222222222222222,
             "#7201a8"
            ],
            [
             0.3333333333333333,
             "#9c179e"
            ],
            [
             0.4444444444444444,
             "#bd3786"
            ],
            [
             0.5555555555555556,
             "#d8576b"
            ],
            [
             0.6666666666666666,
             "#ed7953"
            ],
            [
             0.7777777777777778,
             "#fb9f3a"
            ],
            [
             0.8888888888888888,
             "#fdca26"
            ],
            [
             1,
             "#f0f921"
            ]
           ]
          },
          "colorway": [
           "#636efa",
           "#EF553B",
           "#00cc96",
           "#ab63fa",
           "#FFA15A",
           "#19d3f3",
           "#FF6692",
           "#B6E880",
           "#FF97FF",
           "#FECB52"
          ],
          "font": {
           "color": "#2a3f5f"
          },
          "geo": {
           "bgcolor": "white",
           "lakecolor": "white",
           "landcolor": "#E5ECF6",
           "showlakes": true,
           "showland": true,
           "subunitcolor": "white"
          },
          "hoverlabel": {
           "align": "left"
          },
          "hovermode": "closest",
          "mapbox": {
           "style": "light"
          },
          "paper_bgcolor": "white",
          "plot_bgcolor": "#E5ECF6",
          "polar": {
           "angularaxis": {
            "gridcolor": "white",
            "linecolor": "white",
            "ticks": ""
           },
           "bgcolor": "#E5ECF6",
           "radialaxis": {
            "gridcolor": "white",
            "linecolor": "white",
            "ticks": ""
           }
          },
          "scene": {
           "xaxis": {
            "backgroundcolor": "#E5ECF6",
            "gridcolor": "white",
            "gridwidth": 2,
            "linecolor": "white",
            "showbackground": true,
            "ticks": "",
            "zerolinecolor": "white"
           },
           "yaxis": {
            "backgroundcolor": "#E5ECF6",
            "gridcolor": "white",
            "gridwidth": 2,
            "linecolor": "white",
            "showbackground": true,
            "ticks": "",
            "zerolinecolor": "white"
           },
           "zaxis": {
            "backgroundcolor": "#E5ECF6",
            "gridcolor": "white",
            "gridwidth": 2,
            "linecolor": "white",
            "showbackground": true,
            "ticks": "",
            "zerolinecolor": "white"
           }
          },
          "shapedefaults": {
           "line": {
            "color": "#2a3f5f"
           }
          },
          "ternary": {
           "aaxis": {
            "gridcolor": "white",
            "linecolor": "white",
            "ticks": ""
           },
           "baxis": {
            "gridcolor": "white",
            "linecolor": "white",
            "ticks": ""
           },
           "bgcolor": "#E5ECF6",
           "caxis": {
            "gridcolor": "white",
            "linecolor": "white",
            "ticks": ""
           }
          },
          "title": {
           "x": 0.05
          },
          "xaxis": {
           "automargin": true,
           "gridcolor": "white",
           "linecolor": "white",
           "ticks": "",
           "title": {
            "standoff": 15
           },
           "zerolinecolor": "white",
           "zerolinewidth": 2
          },
          "yaxis": {
           "automargin": true,
           "gridcolor": "white",
           "linecolor": "white",
           "ticks": "",
           "title": {
            "standoff": 15
           },
           "zerolinecolor": "white",
           "zerolinewidth": 2
          }
         }
        },
        "xaxis": {
         "anchor": "y",
         "domain": [
          0,
          1
         ]
        },
        "xaxis2": {
         "anchor": "y2",
         "domain": [
          0,
          1
         ]
        },
        "xaxis3": {
         "anchor": "y3",
         "domain": [
          0,
          1
         ]
        },
        "xaxis4": {
         "anchor": "y4",
         "domain": [
          0,
          1
         ]
        },
        "xaxis5": {
         "anchor": "y5",
         "domain": [
          0,
          1
         ]
        },
        "xaxis6": {
         "anchor": "y6",
         "domain": [
          0,
          1
         ]
        },
        "xaxis7": {
         "anchor": "y7",
         "domain": [
          0,
          1
         ]
        },
        "xaxis8": {
         "anchor": "y8",
         "domain": [
          0,
          1
         ]
        },
        "xaxis9": {
         "anchor": "y9",
         "domain": [
          0,
          1
         ]
        },
        "yaxis": {
         "anchor": "x",
         "domain": [
          0.9185185185185185,
          1
         ]
        },
        "yaxis2": {
         "anchor": "x2",
         "domain": [
          0.8037037037037038,
          0.8851851851851853
         ]
        },
        "yaxis3": {
         "anchor": "x3",
         "domain": [
          0.6888888888888889,
          0.7703703703703704
         ]
        },
        "yaxis4": {
         "anchor": "x4",
         "domain": [
          0.5740740740740741,
          0.6555555555555556
         ]
        },
        "yaxis5": {
         "anchor": "x5",
         "domain": [
          0.45925925925925926,
          0.5407407407407407
         ]
        },
        "yaxis6": {
         "anchor": "x6",
         "domain": [
          0.34444444444444444,
          0.42592592592592593
         ]
        },
        "yaxis7": {
         "anchor": "x7",
         "domain": [
          0.22962962962962963,
          0.3111111111111111
         ]
        },
        "yaxis8": {
         "anchor": "x8",
         "domain": [
          0.11481481481481481,
          0.1962962962962963
         ]
        },
        "yaxis9": {
         "anchor": "x9",
         "domain": [
          0,
          0.08148148148148149
         ]
        }
       }
      }
     },
     "metadata": {},
     "output_type": "display_data"
    }
   ],
   "source": [
    "import plotly.graph_objects as go\n",
    "from plotly.subplots import make_subplots\n",
    "\n",
    "q_path = np.array(q_path)\n",
    "fig = make_subplots(rows=q_path.shape[1], cols=1)\n",
    "for i in range(q_path.shape[1]):\n",
    "    fig.add_trace(go.Scatter(y=q_path[:,i]), row=i+1, col=1)\n",
    "    fig.add_hline(y=IK_solver.model.lowerPositionLimit[i], row=i+1, col=1, line_dash='dash')\n",
    "    fig.add_hline(y=IK_solver.model.upperPositionLimit[i], row=i+1, col=1, line_dash='dash')\n",
    "\n",
    "fig.update_layout(height=2000, showlegend=False)\n",
    "fig.show()"
   ]
  },
  {
   "cell_type": "code",
   "execution_count": 4,
   "metadata": {},
   "outputs": [
    {
     "name": "stderr",
     "output_type": "stream",
     "text": [
      "pybullet build time: Oct 14 2023 15:43:53\n"
     ]
    },
    {
     "name": "stdout",
     "output_type": "stream",
     "text": [
      "startThreads creating 1 threads.\n",
      "starting thread 0\n",
      "started thread 0 \n",
      "argc=2\n",
      "argv[0] = --unused\n",
      "argv[1] = --start_demo_name=Physics Server\n",
      "ExampleBrowserThreadFunc started\n",
      "X11 functions dynamically loaded using dlopen/dlsym OK!\n",
      "X11 functions dynamically loaded using dlopen/dlsym OK!\n",
      "Creating context\n",
      "Created GL 3.3 context\n",
      "Direct GLX rendering context obtained\n",
      "Making context current\n",
      "GL_VENDOR=Mesa/X.org\n",
      "GL_RENDERER=llvmpipe (LLVM 11.0.1, 256 bits)\n",
      "GL_VERSION=4.5 (Core Profile) Mesa 20.3.5\n",
      "GL_SHADING_LANGUAGE_VERSION=4.50\n",
      "pthread_getconcurrency()=0\n",
      "Version = 4.5 (Core Profile) Mesa 20.3.5\n",
      "Vendor = Mesa/X.org\n",
      "Renderer = llvmpipe (LLVM 11.0.1, 256 bits)\n",
      "b3Printf: Selected demo: Physics Server\n",
      "startThreads creating 1 threads.\n",
      "starting thread 0\n",
      "started thread 0 \n",
      "MotionThreadFunc thread started\n",
      "ven = Mesa/X.org\n",
      "ven = Mesa/X.org\n",
      "numActiveThreads = 0\n",
      "stopping threads\n",
      "destroy semaphore\n",
      "semaphore destroyed\n",
      "Thread with taskId 0 exiting\n",
      "Thread TERMINATED\n",
      "destroy main semaphore\n",
      "main semaphore destroyed\n",
      "finished\n",
      "numActiveThreads = 0\n",
      "btShutDownExampleBrowser stopping threads\n",
      "Thread with taskId 0 exiting\n",
      "Thread TERMINATED\n",
      "destroy semaphore\n",
      "semaphore destroyed\n",
      "destroy main semaphore\n",
      "main semaphore destroyed\n"
     ]
    }
   ],
   "source": [
    "import pybullet as p\n",
    "import time\n",
    "import pybullet_data\n",
    "\n",
    "try: p.disconnect()\n",
    "except: pass\n",
    "\n",
    "\n",
    "physicsClient = p.connect(p.GUI)#or p.DIRECT for non-graphical version\n",
    "robotSim = p.loadURDF(urdf_file, [0,0,0], p.getQuaternionFromEuler([0,0,0]))\n",
    "p.resetDebugVisualizerCamera(cameraYaw = 90, cameraPitch= -20,cameraDistance = 1,cameraTargetPosition=[0.7,-0.2,0.7])\n",
    "\n",
    "# Show target as red sphere\n",
    "for constraint, target in zip(constraints, targets):\n",
    "    if constraint['type'] == 'position':\n",
    "        test_visual = p.createVisualShape(p.GEOM_SPHERE, radius=0.1, rgbaColor=[1,0,0,0.5])\n",
    "        test_body = p.createMultiBody(baseMass=0, baseVisualShapeIndex=test_visual, basePosition = target)\n",
    "\n",
    "# Replay robot trajectory to target     \n",
    "for i, q in enumerate(q_path):\n",
    "    for jointIndex in range(len(q)):\n",
    "        p.resetJointState(robotSim, jointIndex, q[jointIndex])\n",
    "        p.setJointMotorControl2(robotSim, jointIndex, p.POSITION_CONTROL,\n",
    "                                targetPosition=q[jointIndex], force=10)\n",
    "    if i==0: time.sleep(1)\n",
    "    time.sleep(0.1)\n",
    "\n",
    "time.sleep(2)\n",
    "p.disconnect()"
   ]
  },
  {
   "cell_type": "code",
   "execution_count": 89,
   "metadata": {},
   "outputs": [
    {
     "name": "stdout",
     "output_type": "stream",
     "text": [
      "numActiveThreads = 0\n",
      "stopping threads\n",
      "destroy semaphore\n",
      "semaphore destroyed\n",
      "Thread with taskId 0 exiting\n",
      "Thread TERMINATED\n",
      "destroy main semaphore\n",
      "main semaphore destroyed\n",
      "finished\n",
      "numActiveThreads = 0\n",
      "btShutDownExampleBrowser stopping threads\n",
      "Thread with taskId 0 exiting\n",
      "Thread TERMINATED\n",
      "destroy semaphore\n",
      "semaphore destroyed\n",
      "destroy main semaphore\n",
      "main semaphore destroyed\n"
     ]
    }
   ],
   "source": [
    "p.disconnect()"
   ]
  }
 ],
 "metadata": {
  "kernelspec": {
   "display_name": "Python 3",
   "language": "python",
   "name": "python3"
  },
  "language_info": {
   "codemirror_mode": {
    "name": "ipython",
    "version": 3
   },
   "file_extension": ".py",
   "mimetype": "text/x-python",
   "name": "python",
   "nbconvert_exporter": "python",
   "pygments_lexer": "ipython3",
   "version": "3.9.2"
  }
 },
 "nbformat": 4,
 "nbformat_minor": 2
}
