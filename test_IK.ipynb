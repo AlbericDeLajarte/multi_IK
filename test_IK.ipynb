{
 "cells": [
  {
   "cell_type": "code",
   "execution_count": 11,
   "metadata": {},
   "outputs": [],
   "source": [
    "import time\n",
    "\n",
    "import pinocchio\n",
    "import numpy as np\n",
    "np.set_printoptions(precision=3, suppress=True)\n",
    "\n",
    "from src import damped_IK"
   ]
  },
  {
   "cell_type": "code",
   "execution_count": 12,
   "metadata": {},
   "outputs": [
    {
     "name": "stdout",
     "output_type": "stream",
     "text": [
      "Solver successful: True in 42.45ms with 144 iterations\n",
      "[ 1.968  1.584 -1.244 -2.379  1.818  1.784 -2.011  0.028  0.007]\n",
      "  R =\n",
      "-0.000438342            1 -0.000516766\n",
      "    0.999999  0.000437691  -0.00126007\n",
      " -0.00125984 -0.000517318    -0.999999\n",
      "  p = 0.399308 0.198309 0.201112\n",
      "\n"
     ]
    }
   ],
   "source": [
    "urdf_file = \"panda_description/urdf/panda.urdf\"\n",
    "\n",
    "constraints = [{'frame': 'panda_joint7', 'type': 'position', 'weigth':1},\n",
    "               {'frame': 'panda_joint7', 'type': 'orientation', 'weigth':1},\n",
    "               ]\n",
    "\n",
    "IK_solver = damped_IK(urdf_file, constraints)\n",
    "\n",
    "q0 = pinocchio.randomConfiguration(IK_solver.model)\n",
    "\n",
    "targets = [np.array([0.4, 0.2, 0.2]),\n",
    "           np.array([[0,1,0], [1,0,0], [0,0,-1]])]\n",
    "\n",
    "t0 = time.time()\n",
    "q_path, success = IK_solver.run(q0, targets, return_path=True)\n",
    "print(f\"Solver successful: {success} in {1000*(time.time()-t0):.2f}ms with {len(q_path)} iterations\")\n",
    "\n",
    "print(q_path[-1])\n",
    "print(IK_solver.data.oMi[7])"
   ]
  },
  {
   "cell_type": "code",
   "execution_count": 15,
   "metadata": {},
   "outputs": [
    {
     "name": "stdout",
     "output_type": "stream",
     "text": [
      "startThreads creating 1 threads.\n",
      "starting thread 0\n",
      "started thread 0 \n",
      "argc=2\n",
      "argv[0] = --unused\n",
      "argv[1] = --start_demo_name=Physics Server\n",
      "ExampleBrowserThreadFunc started\n",
      "X11 functions dynamically loaded using dlopen/dlsym OK!\n",
      "X11 functions dynamically loaded using dlopen/dlsym OK!\n",
      "Creating context\n",
      "Created GL 3.3 context\n",
      "Direct GLX rendering context obtained\n",
      "Making context current\n",
      "GL_VENDOR=Mesa/X.org\n",
      "GL_RENDERER=llvmpipe (LLVM 11.0.1, 256 bits)\n",
      "GL_VERSION=4.5 (Core Profile) Mesa 20.3.5\n",
      "GL_SHADING_LANGUAGE_VERSION=4.50\n",
      "pthread_getconcurrency()=0\n",
      "Version = 4.5 (Core Profile) Mesa 20.3.5\n",
      "Vendor = Mesa/X.org\n",
      "Renderer = llvmpipe (LLVM 11.0.1, 256 bits)\n",
      "b3Printf: Selected demo: Physics Server\n",
      "startThreads creating 1 threads.\n",
      "starting thread 0\n",
      "started thread 0 \n",
      "MotionThreadFunc thread started\n",
      "ven = Mesa/X.org\n",
      "ven = Mesa/X.org\n"
     ]
    }
   ],
   "source": [
    "import pybullet as p\n",
    "import time\n",
    "import pybullet_data\n",
    "physicsClient = p.connect(p.GUI)#or p.DIRECT for non-graphical version\n",
    "robotSim = p.loadURDF(urdf_file, [0,0,0], p.getQuaternionFromEuler([0,0,0]))\n",
    "p.resetDebugVisualizerCamera(cameraYaw = 90, cameraPitch= -20,cameraDistance = 1,cameraTargetPosition=[0.7,-0.2,0.7])\n",
    "\n",
    "# Show target as red sphere\n",
    "for constraint, target in zip(constraints, targets):\n",
    "    if constraint['type'] == 'position':\n",
    "        test_visual = p.createVisualShape(p.GEOM_SPHERE, radius=0.1, rgbaColor=[1,0,0,0.5])\n",
    "        test_body = p.createMultiBody(baseMass=0, baseVisualShapeIndex=test_visual, basePosition = target)\n",
    "\n",
    "# Replay robot trajectory to target     \n",
    "for i, q in enumerate(q_path):\n",
    "    for jointIndex in range(len(q)):\n",
    "        p.resetJointState(robotSim, jointIndex, q[jointIndex])\n",
    "        p.setJointMotorControl2(robotSim, jointIndex, p.POSITION_CONTROL,\n",
    "                                targetPosition=q[jointIndex], force=10)\n",
    "    if i==0: time.sleep(1)\n",
    "    time.sleep(0.1)\n"
   ]
  },
  {
   "cell_type": "code",
   "execution_count": 14,
   "metadata": {},
   "outputs": [
    {
     "name": "stdout",
     "output_type": "stream",
     "text": [
      "numActiveThreads = 0\n",
      "stopping threads\n",
      "destroy semaphore\n",
      "semaphore destroyed\n",
      "Thread with taskId 0 exiting\n",
      "Thread TERMINATED\n",
      "destroy main semaphore\n",
      "main semaphore destroyed\n",
      "finished\n",
      "numActiveThreads = 0\n",
      "btShutDownExampleBrowser stopping threads\n",
      "Thread with taskId 0 exiting\n",
      "Thread TERMINATED\n",
      "destroy semaphore\n",
      "semaphore destroyed\n",
      "destroy main semaphore\n",
      "main semaphore destroyed\n"
     ]
    }
   ],
   "source": [
    "p.disconnect()"
   ]
  }
 ],
 "metadata": {
  "kernelspec": {
   "display_name": "Python 3",
   "language": "python",
   "name": "python3"
  },
  "language_info": {
   "codemirror_mode": {
    "name": "ipython",
    "version": 3
   },
   "file_extension": ".py",
   "mimetype": "text/x-python",
   "name": "python",
   "nbconvert_exporter": "python",
   "pygments_lexer": "ipython3",
   "version": "3.9.2"
  }
 },
 "nbformat": 4,
 "nbformat_minor": 2
}
